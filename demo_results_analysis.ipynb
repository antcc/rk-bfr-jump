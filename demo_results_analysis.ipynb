{
 "cells": [
  {
   "cell_type": "markdown",
   "id": "f33c4638",
   "metadata": {},
   "source": [
    "# Analysis of results"
   ]
  },
  {
   "cell_type": "code",
   "execution_count": 1,
   "id": "9dc9b604",
   "metadata": {
    "ExecuteTime": {
     "end_time": "2022-09-21T18:47:57.899668Z",
     "start_time": "2022-09-21T18:47:57.885823Z"
    },
    "code_folding": [
     0
    ],
    "execution": {
     "iopub.execute_input": "2024-05-22T11:15:18.714668Z",
     "iopub.status.busy": "2024-05-22T11:15:18.714261Z",
     "iopub.status.idle": "2024-05-22T11:15:20.173578Z",
     "shell.execute_reply": "2024-05-22T11:15:20.173209Z",
     "shell.execute_reply.started": "2024-05-22T11:15:18.714635Z"
    }
   },
   "outputs": [],
   "source": [
    "# -- Libraries and defaults\n",
    "\n",
    "import os\n",
    "import pickle\n",
    "import numpy as np\n",
    "import pandas as pd\n",
    "import matplotlib.pyplot as plt\n",
    "import arviz as az\n",
    "from functools import reduce\n",
    "from matplotlib.lines import Line2D\n",
    "\n",
    "np.set_printoptions(precision=4, suppress=True)\n",
    "pd.set_option(\"display.precision\", 4)\n",
    "pd.set_option(\"styler.format.precision\", 4)\n",
    "\n",
    "COLORS = plt.get_cmap(\"tab10\")\n",
    "BLUE, ORANGE, RED = \"tab:blue\", \"tab:orange\", \"tab:red\""
   ]
  },
  {
   "cell_type": "code",
   "execution_count": 2,
   "id": "1a6de996",
   "metadata": {
    "ExecuteTime": {
     "end_time": "2022-09-21T18:47:58.079936Z",
     "start_time": "2022-09-21T18:47:58.075954Z"
    },
    "code_folding": [],
    "execution": {
     "iopub.execute_input": "2024-05-22T11:15:20.174500Z",
     "iopub.status.busy": "2024-05-22T11:15:20.174259Z",
     "iopub.status.idle": "2024-05-22T11:15:20.176794Z",
     "shell.execute_reply": "2024-05-22T11:15:20.176480Z",
     "shell.execute_reply.started": "2024-05-22T11:15:20.174487Z"
    }
   },
   "outputs": [],
   "source": [
    "# -- Global configuration\n",
    "\n",
    "DIR_EXPERIMENTS = \"results/scores/logistic/lambda_3/\"\n",
    "SAVE_FIG = True  # Save format is .pdf\n",
    "DIR_SAVE = \"results/figures/logistic/lambda_3/\"\n",
    "FONT_SIZE_LATEX = 15  # Font size for saved figures"
   ]
  },
  {
   "cell_type": "code",
   "execution_count": 3,
   "id": "5465e013",
   "metadata": {
    "execution": {
     "iopub.execute_input": "2024-05-22T11:15:20.311599Z",
     "iopub.status.busy": "2024-05-22T11:15:20.311453Z",
     "iopub.status.idle": "2024-05-22T11:15:20.315616Z",
     "shell.execute_reply": "2024-05-22T11:15:20.315253Z",
     "shell.execute_reply.started": "2024-05-22T11:15:20.311588Z"
    }
   },
   "outputs": [],
   "source": [
    "# -- Set matplotlib parameters\n",
    "\n",
    "plt.rc(\"axes\", prop_cycle=plt.cycler(\"color\", COLORS.colors))\n",
    "legend_fontsize = FONT_SIZE_LATEX - 2 if SAVE_FIG else None\n",
    "\n",
    "if SAVE_FIG:  # Mirror the style of a specific LaTeX document\n",
    "    plt.rcParams.update(\n",
    "        {\n",
    "            \"font.family\": \"serif\",\n",
    "            \"font.size\": FONT_SIZE_LATEX,\n",
    "            \"axes.linewidth\": 0.75,\n",
    "            \"text.usetex\": True,\n",
    "            \"pgf.rcfonts\": False,\n",
    "            \"pgf.texsystem\": \"pdflatex\",  # default is xetex\n",
    "            \"pgf.preamble\": \"\\n\".join(\n",
    "                [\n",
    "                    r\"\\renewcommand{\\rmdefault}{ptm}\",\n",
    "                    r\"\\renewcommand{\\sfdefault}{phv}\",\n",
    "                    r\"\\usepackage[T1]{fontenc}\",\n",
    "                    r\"\\usepackage[english]{babel}\",\n",
    "                    r\"\\usepackage{microtype}\",\n",
    "                    r\"\\makeatletter\\g@addto@macro\\bfseries{\\boldmath}\\makeatother\",  # bold math\n",
    "                ]\n",
    "            ),\n",
    "        }\n",
    "    )\n",
    "else:\n",
    "    plt.rcParams.update(plt.rcParamsDefault)\n",
    "    %matplotlib inline\n",
    "    plt.rcParams[\"figure.dpi\"] = 100"
   ]
  },
  {
   "cell_type": "code",
   "execution_count": 4,
   "id": "75f95a82",
   "metadata": {
    "ExecuteTime": {
     "end_time": "2022-09-21T18:47:58.228643Z",
     "start_time": "2022-09-21T18:47:58.215689Z"
    },
    "code_folding": [
     0,
     2,
     36,
     77
    ],
    "execution": {
     "iopub.execute_input": "2024-05-22T11:15:20.586126Z",
     "iopub.status.busy": "2024-05-22T11:15:20.585902Z",
     "iopub.status.idle": "2024-05-22T11:15:20.594048Z",
     "shell.execute_reply": "2024-05-22T11:15:20.593519Z",
     "shell.execute_reply.started": "2024-05-22T11:15:20.586110Z"
    }
   },
   "outputs": [],
   "source": [
    "# -- Helper functions\n",
    "\n",
    "def get_name_table(dataname):\n",
    "    basename = os.path.basename(name)\n",
    "    basename_split = basename.split(\"_\")\n",
    "\n",
    "    if \"mixture\" in dataname:\n",
    "        model = \"mixture\"\n",
    "    elif \"gbm_\" in dataname:\n",
    "        model = \"gbm\"\n",
    "    elif \"gp_\" in dataname:\n",
    "        model = basename_split[-3]\n",
    "    else:\n",
    "        model = basename_split[1]\n",
    "\n",
    "    if \"homoscedastic\" in dataname:\n",
    "        dataname_short = \"Homoscedastic\"\n",
    "    elif \"heteroscedastic\" in dataname:\n",
    "        dataname_short = \"Heteroscedastic\"\n",
    "    elif \"fractional\" in dataname:\n",
    "        dataname_short = \"fBM\"\n",
    "    elif \"brownian\" in dataname:\n",
    "        dataname_short = \"BM\"\n",
    "    elif \"exponential\" in dataname:\n",
    "        dataname_short = \"Sq. exp\"\n",
    "    elif \"ornstein_uhlenbeck\" in dataname:\n",
    "        dataname_short = \"O-U\"\n",
    "    elif \"gbm_rkhs\" in dataname:\n",
    "        dataname_short = \"GBM + RKHS\"\n",
    "    elif \"gbm_l2\" in dataname:\n",
    "        dataname_short = \"GBM + $L^2$\"\n",
    "    else:\n",
    "        dataname_short = model.capitalize()\n",
    "\n",
    "    return dataname_short\n",
    "\n",
    "\n",
    "def get_name_graph(dataname):\n",
    "    basename = os.path.basename(dataname)\n",
    "    basename_split = basename.split(\"_\")\n",
    "\n",
    "    if \"mixture\" in dataname:\n",
    "        model = \"mixture\"\n",
    "    elif \"gbm_\" in dataname:\n",
    "        model = \"gbm\"\n",
    "    elif \"gp_\" in dataname:\n",
    "        model = basename_split[-3]\n",
    "    else:\n",
    "        model = basename_split[1]\n",
    "\n",
    "    real_data = False\n",
    "    if \"homoscedastic\" in dataname:\n",
    "        dataname_short = \"Homoscedastic\"\n",
    "    elif \"heteroscedastic\" in dataname:\n",
    "        dataname_short = \"Heteroscedastic\"\n",
    "    elif \"fractional\" in dataname:\n",
    "        dataname_short = \"Fractional Brownian\"\n",
    "    elif \"brownian\" in dataname:\n",
    "        dataname_short = \"Standard Brownian\"\n",
    "    elif \"exponential\" in dataname:\n",
    "        dataname_short = \"Gaussian\"\n",
    "    elif \"ornstein_uhlenbeck\" in dataname:\n",
    "        dataname_short = \"Ornstein-Uhlenbeck\"\n",
    "    elif \"gbm_rkhs\" in dataname:\n",
    "        dataname_short = \"GBM + RKHS\"\n",
    "    elif \"gbm_l2\" in dataname:\n",
    "        dataname_short = \"GBM + $L^2$\"\n",
    "    else:\n",
    "        dataname_short = model.capitalize()\n",
    "        real_data = True\n",
    "\n",
    "    if \"smoothing\" in basename:\n",
    "        dataname_short += \" - smooth\"\n",
    "\n",
    "    return dataname_short, real_data\n",
    "\n",
    "\n",
    "def change_name_two_stage_linear(name):\n",
    "    name_split = name.split(\"+\")\n",
    "    return name_split[0] + \"+\" + \"r\"\n",
    "\n",
    "\n",
    "def separate_df(df, key, kind):\n",
    "    df1 = df[~df[\"Estimator\"].str.contains(\"\\\\+\")]\n",
    "    df1 = df1.sort_values(key)\n",
    "    \n",
    "    df2 = df[df[\"Estimator\"].str.contains(\"\\\\+\")]\n",
    "    df2 = df2.sort_values(key)\n",
    "\n",
    "    if kind == \"linear\":\n",
    "        df2[\"Estimator\"] = df2[\"Estimator\"].map(lambda name: change_name_two_stage_linear(name))\n",
    "\n",
    "    return df1, df2\n",
    "\n",
    "\n",
    "def get_size_latex(width, fraction=1, subplots=(1, 1)):\n",
    "    \"\"\"Set figure dimensions to avoid scaling in LaTeX.\n",
    "\n",
    "    [https://jwalton.info/Embed-Publication-Matplotlib-Latex/]\n",
    "\n",
    "    Parameters\n",
    "    ----------\n",
    "    width: float or string\n",
    "            Document width in points, or string of predined document type\n",
    "    fraction: float, optional\n",
    "            Fraction of the width which you wish the figure to occupy\n",
    "    subplots: array-like, optional\n",
    "            The number of rows and columns of subplots.\n",
    "    Returns\n",
    "    -------\n",
    "    fig_dim: tuple\n",
    "            Dimensions of figure in inches\n",
    "    \"\"\"\n",
    "    if width == \"thesis\":\n",
    "        width_pt = 426.79135\n",
    "    elif width == \"beamer\":\n",
    "        width_pt = 307.28987\n",
    "    else:\n",
    "        width_pt = width\n",
    "\n",
    "    # Width of figure (in pts)\n",
    "    fig_width_pt = width_pt * fraction\n",
    "    # Convert from pt to inches\n",
    "    inches_per_pt = 1 / 72.27\n",
    "\n",
    "    # Golden ratio to set aesthetic figure height\n",
    "    # https://disq.us/p/2940ij3\n",
    "    golden_ratio = (5**0.5 - 1) / 2\n",
    "\n",
    "    # Figure width in inches\n",
    "    fig_width_in = fig_width_pt * inches_per_pt\n",
    "    # Figure height in inches\n",
    "    fig_height_in = fig_width_in * golden_ratio * (subplots[0] / subplots[1])\n",
    "\n",
    "    return (fig_width_in, fig_height_in)"
   ]
  },
  {
   "cell_type": "markdown",
   "id": "4bcc7341",
   "metadata": {
    "jp-MarkdownHeadingCollapsed": true
   },
   "source": [
    "## Recovering the RKHS functional parameter"
   ]
  },
  {
   "cell_type": "code",
   "execution_count": 104,
   "id": "adff505f",
   "metadata": {
    "execution": {
     "iopub.execute_input": "2024-05-22T11:06:54.193298Z",
     "iopub.status.busy": "2024-05-22T11:06:54.193073Z",
     "iopub.status.idle": "2024-05-22T11:06:54.207859Z",
     "shell.execute_reply": "2024-05-22T11:06:54.207035Z",
     "shell.execute_reply.started": "2024-05-22T11:06:54.193278Z"
    }
   },
   "outputs": [],
   "source": [
    "# -- Configuration\n",
    "\n",
    "DIR_TRACE = DIR_EXPERIMENTS + \"emcee_linear-3.idata\"  # emcee_linear-{3,4}.idata"
   ]
  },
  {
   "cell_type": "code",
   "execution_count": 105,
   "id": "7f4a1467",
   "metadata": {
    "execution": {
     "iopub.execute_input": "2024-05-22T11:06:54.209176Z",
     "iopub.status.busy": "2024-05-22T11:06:54.208883Z",
     "iopub.status.idle": "2024-05-22T11:06:54.313380Z",
     "shell.execute_reply": "2024-05-22T11:06:54.311771Z",
     "shell.execute_reply.started": "2024-05-22T11:06:54.209153Z"
    }
   },
   "outputs": [
    {
     "ename": "FileNotFoundError",
     "evalue": "[Errno 2] No such file or directory: 'results/scores/logistic/lambda_3/emcee_linear-3.idata'",
     "output_type": "error",
     "traceback": [
      "\u001b[0;31m---------------------------------------------------------------------------\u001b[0m",
      "\u001b[0;31mFileNotFoundError\u001b[0m                         Traceback (most recent call last)",
      "Cell \u001b[0;32mIn[105], line 3\u001b[0m\n\u001b[1;32m      1\u001b[0m \u001b[38;5;66;03m# -- Load data\u001b[39;00m\n\u001b[0;32m----> 3\u001b[0m \u001b[38;5;28;01mwith\u001b[39;00m \u001b[38;5;28;43mopen\u001b[39;49m\u001b[43m(\u001b[49m\u001b[43mDIR_TRACE\u001b[49m\u001b[43m,\u001b[49m\u001b[43m \u001b[49m\u001b[38;5;124;43m\"\u001b[39;49m\u001b[38;5;124;43mrb\u001b[39;49m\u001b[38;5;124;43m\"\u001b[39;49m\u001b[43m)\u001b[49m \u001b[38;5;28;01mas\u001b[39;00m file:\n\u001b[1;32m      4\u001b[0m     idata_emcee \u001b[38;5;241m=\u001b[39m pickle\u001b[38;5;241m.\u001b[39mload(file)\n\u001b[1;32m      5\u001b[0m     n_vars \u001b[38;5;241m=\u001b[39m \u001b[38;5;28mlen\u001b[39m(idata_emcee\u001b[38;5;241m.\u001b[39mposterior[\u001b[38;5;124m\"\u001b[39m\u001b[38;5;124mtheta\u001b[39m\u001b[38;5;124m\"\u001b[39m])\n",
      "File \u001b[0;32m~/.micromamba/envs/python-scientific/lib/python3.11/site-packages/IPython/core/interactiveshell.py:310\u001b[0m, in \u001b[0;36m_modified_open\u001b[0;34m(file, *args, **kwargs)\u001b[0m\n\u001b[1;32m    303\u001b[0m \u001b[38;5;28;01mif\u001b[39;00m file \u001b[38;5;129;01min\u001b[39;00m {\u001b[38;5;241m0\u001b[39m, \u001b[38;5;241m1\u001b[39m, \u001b[38;5;241m2\u001b[39m}:\n\u001b[1;32m    304\u001b[0m     \u001b[38;5;28;01mraise\u001b[39;00m \u001b[38;5;167;01mValueError\u001b[39;00m(\n\u001b[1;32m    305\u001b[0m         \u001b[38;5;124mf\u001b[39m\u001b[38;5;124m\"\u001b[39m\u001b[38;5;124mIPython won\u001b[39m\u001b[38;5;124m'\u001b[39m\u001b[38;5;124mt let you open fd=\u001b[39m\u001b[38;5;132;01m{\u001b[39;00mfile\u001b[38;5;132;01m}\u001b[39;00m\u001b[38;5;124m by default \u001b[39m\u001b[38;5;124m\"\u001b[39m\n\u001b[1;32m    306\u001b[0m         \u001b[38;5;124m\"\u001b[39m\u001b[38;5;124mas it is likely to crash IPython. If you know what you are doing, \u001b[39m\u001b[38;5;124m\"\u001b[39m\n\u001b[1;32m    307\u001b[0m         \u001b[38;5;124m\"\u001b[39m\u001b[38;5;124myou can use builtins\u001b[39m\u001b[38;5;124m'\u001b[39m\u001b[38;5;124m open.\u001b[39m\u001b[38;5;124m\"\u001b[39m\n\u001b[1;32m    308\u001b[0m     )\n\u001b[0;32m--> 310\u001b[0m \u001b[38;5;28;01mreturn\u001b[39;00m \u001b[43mio_open\u001b[49m\u001b[43m(\u001b[49m\u001b[43mfile\u001b[49m\u001b[43m,\u001b[49m\u001b[43m \u001b[49m\u001b[38;5;241;43m*\u001b[39;49m\u001b[43margs\u001b[49m\u001b[43m,\u001b[49m\u001b[43m \u001b[49m\u001b[38;5;241;43m*\u001b[39;49m\u001b[38;5;241;43m*\u001b[39;49m\u001b[43mkwargs\u001b[49m\u001b[43m)\u001b[49m\n",
      "\u001b[0;31mFileNotFoundError\u001b[0m: [Errno 2] No such file or directory: 'results/scores/logistic/lambda_3/emcee_linear-3.idata'"
     ]
    }
   ],
   "source": [
    "# -- Load data\n",
    "\n",
    "with open(DIR_TRACE, \"rb\") as file:\n",
    "    idata_emcee = pickle.load(file)\n",
    "    n_vars = len(idata_emcee.posterior[\"theta\"])"
   ]
  },
  {
   "cell_type": "code",
   "execution_count": null,
   "id": "75a5a509",
   "metadata": {
    "execution": {
     "iopub.status.busy": "2024-05-22T11:06:54.313999Z",
     "iopub.status.idle": "2024-05-22T11:06:54.314269Z",
     "shell.execute_reply": "2024-05-22T11:06:54.314143Z",
     "shell.execute_reply.started": "2024-05-22T11:06:54.314130Z"
    }
   },
   "outputs": [],
   "source": [
    "# -- Plot density and trace evolution\n",
    "\n",
    "labeller = {\"β\": \"$b$\", \"τ\": \"$\\\\tau$\"} if SAVE_FIG else {\"β\": \"b\", \"τ\": \"τ\"}\n",
    "components = {0: \"First\", 1: \"Second\", 2: \"Third\", 3: \"Fourth\"}\n",
    "\n",
    "# Figure\n",
    "fig, axs = plt.subplots(2, 2, figsize=(12, 7))\n",
    "az.plot_trace(idata_emcee, var_names=[\"β\", \"τ\"], combined=True, axes=axs)\n",
    "plt.subplots_adjust(hspace=0.25)\n",
    "axs[0, 0].set_title(\"Approximate posterior density\")\n",
    "axs[0, 1].set_title(\"Trace evolution\")\n",
    "axs[1, 0].set_title(\"\")\n",
    "axs[1, 1].set_title(\"\")\n",
    "axs[0, 1].set_xlabel(\"Iterations\")\n",
    "axs[1, 1].set_xlabel(\"Iterations\")\n",
    "axs[1, 0].set_xlabel(labeller[\"τ\"])\n",
    "axs[0, 0].set_xlabel(labeller[\"β\"])\n",
    "axs[0, 1].set_ylabel(labeller[\"β\"])\n",
    "axs[1, 1].set_ylabel(labeller[\"τ\"])\n",
    "\n",
    "# Legend\n",
    "lines = [\n",
    "    Line2D([0], [0], label=components[i] + \" component\", color=COLORS(i))\n",
    "    for i in range(n_vars)\n",
    "]\n",
    "axs[1, 0].legend(\n",
    "    loc=\"lower center\",\n",
    "    handles=lines,\n",
    "    ncol=n_vars,\n",
    "    fancybox=True,\n",
    "    shadow=True,\n",
    "    fontsize=legend_fontsize,\n",
    "    bbox_to_anchor=(1.085, -0.45),\n",
    ")\n",
    "\n",
    "if SAVE_FIG:\n",
    "    plt.rcParams.update({\n",
    "        \"axes.labelsize\": FONT_SIZE_LATEX - 3,\n",
    "        \"xtick.labelsize\": FONT_SIZE_LATEX,\n",
    "        \"ytick.labelsize\": FONT_SIZE_LATEX,\n",
    "    })\n",
    "    plt.savefig(\n",
    "        DIR_SAVE + os.path.basename(DIR_TRACE).split(\".\")[0] + \".pdf\",\n",
    "        backend=\"pgf\",\n",
    "        bbox_inches=\"tight\",\n",
    "    )"
   ]
  },
  {
   "cell_type": "markdown",
   "id": "34b742a2",
   "metadata": {
    "heading_collapsed": true,
    "jp-MarkdownHeadingCollapsed": true
   },
   "source": [
    "## Dependence on parameters"
   ]
  },
  {
   "cell_type": "code",
   "execution_count": null,
   "id": "bc244ff2",
   "metadata": {
    "ExecuteTime": {
     "end_time": "2022-09-21T17:00:47.209495Z",
     "start_time": "2022-09-21T17:00:47.200530Z"
    },
    "execution": {
     "iopub.status.busy": "2024-05-22T11:06:54.315228Z",
     "iopub.status.idle": "2024-05-22T11:06:54.315576Z",
     "shell.execute_reply": "2024-05-22T11:06:54.315398Z",
     "shell.execute_reply.started": "2024-05-22T11:06:54.315381Z"
    },
    "hidden": true
   },
   "outputs": [],
   "source": [
    "# -- Configuration\n",
    "\n",
    "DIR_DEPENDENCE = DIR_EXPERIMENTS + \"mixture_dependence_acc_p.csv\"\n",
    "X_LABEL_DEPENDENCE = \"p\""
   ]
  },
  {
   "cell_type": "code",
   "execution_count": null,
   "id": "c8507a1c",
   "metadata": {
    "ExecuteTime": {
     "end_time": "2022-09-21T17:00:47.227210Z",
     "start_time": "2022-09-21T17:00:47.211469Z"
    },
    "code_folding": [
     0
    ],
    "execution": {
     "iopub.status.busy": "2024-05-22T11:06:54.316788Z",
     "iopub.status.idle": "2024-05-22T11:06:54.317060Z",
     "shell.execute_reply": "2024-05-22T11:06:54.316944Z",
     "shell.execute_reply.started": "2024-05-22T11:06:54.316932Z"
    },
    "hidden": true
   },
   "outputs": [],
   "source": [
    "# -- Read data\n",
    "\n",
    "df = pd.read_csv(DIR_DEPENDENCE)\n",
    "df_bayesian, df_var_sel = separate_df(df, X_LABEL_DEPENDENCE)"
   ]
  },
  {
   "cell_type": "code",
   "execution_count": null,
   "id": "f0de0340",
   "metadata": {
    "ExecuteTime": {
     "end_time": "2022-09-21T17:00:48.140214Z",
     "start_time": "2022-09-21T17:00:47.229929Z"
    },
    "code_folding": [
     0
    ],
    "execution": {
     "iopub.status.busy": "2024-05-22T11:06:54.318109Z",
     "iopub.status.idle": "2024-05-22T11:06:54.318330Z",
     "shell.execute_reply": "2024-05-22T11:06:54.318226Z",
     "shell.execute_reply.started": "2024-05-22T11:06:54.318216Z"
    },
    "hidden": true
   },
   "outputs": [],
   "source": [
    "# -- Plot data\n",
    "\n",
    "SCORE = \"Acc\" if any(\"Acc\" in string for string in df.columns) else \"RMSE\"\n",
    "SCORE_STR = \"Accuracy\" if SCORE == \"Acc\" else SCORE\n",
    "FIGSIZE = (16, 5) if SAVE_FIG else (12, 3.5)\n",
    "\n",
    "fig, ax = plt.subplots(1, 2, figsize=FIGSIZE, sharey=True)\n",
    "for i, df in enumerate([df_bayesian, df_var_sel]):\n",
    "    ax[i].set_xlabel(X_LABEL_DEPENDENCE)\n",
    "    ax[i].set_ylabel(f\"{SCORE_STR}\")\n",
    "    for key, grp in df.groupby([\"Estimator\"]):\n",
    "        x, y = grp[X_LABEL_DEPENDENCE], grp[f\"Mean {SCORE}\"]\n",
    "        yerror = grp[f\"SD {SCORE}\"]\n",
    "        ax[i].plot(x, y, label=key[0], marker=\".\", markersize=10)\n",
    "        ax[i].fill_between(x, y - yerror, y + yerror, alpha=0.1)\n",
    "\n",
    "ax[0].legend(fontsize=legend_fontsize)\n",
    "ax[1].legend(loc=\"lower left\", fontsize=legend_fontsize)\n",
    "ax[1].tick_params(labelleft=True)\n",
    "\n",
    "if SAVE_FIG:\n",
    "    plt.savefig(\n",
    "        DIR_SAVE + os.path.basename(DIR_DEPENDENCE).split(\".\")[0] + \".pdf\",\n",
    "        backend=\"pgf\",\n",
    "        bbox_inches=\"tight\",\n",
    "    )"
   ]
  },
  {
   "cell_type": "markdown",
   "id": "0dc6d1ac",
   "metadata": {},
   "source": [
    "## Prediction results"
   ]
  },
  {
   "cell_type": "code",
   "execution_count": 5,
   "id": "d6bfe268",
   "metadata": {
    "ExecuteTime": {
     "end_time": "2022-09-21T18:48:00.052500Z",
     "start_time": "2022-09-21T18:48:00.047231Z"
    },
    "code_folding": [],
    "execution": {
     "iopub.execute_input": "2024-05-22T11:15:24.105584Z",
     "iopub.status.busy": "2024-05-22T11:15:24.105222Z",
     "iopub.status.idle": "2024-05-22T11:15:24.110313Z",
     "shell.execute_reply": "2024-05-22T11:15:24.109463Z",
     "shell.execute_reply.started": "2024-05-22T11:15:24.105560Z"
    }
   },
   "outputs": [],
   "source": [
    "# -- Configuration\n",
    "\n",
    "KIND = \"logistic\"  # 'linear' or 'logistic'\n",
    "SMOOTHING = False\n",
    "SCORE_REG = \"RMSE\"  # 'RMSE' or 'rRMSE'\n",
    "IGNORE_SUMMARY_METHODS = True\n",
    "\n",
    "KIND_STR = \"reg\" if KIND == \"linear\" else \"clf\"\n",
    "SCORE_STR = SCORE_REG if KIND == \"linear\" else \"Acc\"\n",
    "SCORE_STR_FULL = SCORE_REG if KIND == \"linear\" else \"Accuracy\""
   ]
  },
  {
   "cell_type": "markdown",
   "id": "d4c426a2",
   "metadata": {},
   "source": [
    "### Data gathering"
   ]
  },
  {
   "cell_type": "code",
   "execution_count": 6,
   "id": "7a2eb886",
   "metadata": {
    "ExecuteTime": {
     "end_time": "2022-09-21T18:48:02.111710Z",
     "start_time": "2022-09-21T18:48:02.080657Z"
    },
    "code_folding": [
     0
    ],
    "execution": {
     "iopub.execute_input": "2024-05-22T11:15:25.741922Z",
     "iopub.status.busy": "2024-05-22T11:15:25.741532Z",
     "iopub.status.idle": "2024-05-22T11:15:25.750435Z",
     "shell.execute_reply": "2024-05-22T11:15:25.749401Z",
     "shell.execute_reply.started": "2024-05-22T11:15:25.741897Z"
    }
   },
   "outputs": [],
   "source": [
    "# -- Data reading functions\n",
    "\n",
    "def get_filenames(*dirs, extension=\"csv\"):\n",
    "    rkhs = []\n",
    "    l2 = []\n",
    "    non_gp = []\n",
    "    real = []\n",
    "\n",
    "    dirs_lst = [d for d in dirs if d is not None]\n",
    "\n",
    "    for dirname in dirs_lst:\n",
    "        for file in os.listdir(dirname):\n",
    "            filename = file.split(\".\")[0]\n",
    "            ext = file.split(\".\")[1]\n",
    "\n",
    "            if SMOOTHING and \"smoothing\" not in filename:\n",
    "                continue\n",
    "            if not SMOOTHING and \"smoothing\" in filename:\n",
    "                continue\n",
    "\n",
    "            if KIND_STR in filename and ext == extension:\n",
    "                if KIND == \"linear\" and \"gbm\" in filename:\n",
    "                    non_gp += [dirname + filename]\n",
    "                elif KIND == \"logistic\" and \"mixture\" in filename:\n",
    "                    non_gp += [dirname + filename]\n",
    "                elif \"rkhs\" in filename:\n",
    "                    rkhs += [dirname + filename]\n",
    "                elif \"l2\" in filename:\n",
    "                    l2 += [dirname + filename]\n",
    "                else:\n",
    "                    real += [dirname + filename]\n",
    "\n",
    "    # Sort\n",
    "    for dataset in [rkhs, l2, non_gp, real]:\n",
    "        dataset.sort(key=lambda x: x.split(\"/\")[-1])\n",
    "\n",
    "    return rkhs, l2, non_gp, real"
   ]
  },
  {
   "cell_type": "code",
   "execution_count": 45,
   "id": "2d03ee7b",
   "metadata": {
    "ExecuteTime": {
     "end_time": "2022-09-21T18:48:02.240178Z",
     "start_time": "2022-09-21T18:48:02.234047Z"
    },
    "code_folding": [],
    "execution": {
     "iopub.execute_input": "2024-05-22T19:00:05.046125Z",
     "iopub.status.busy": "2024-05-22T19:00:05.029170Z",
     "iopub.status.idle": "2024-05-22T19:00:05.115823Z",
     "shell.execute_reply": "2024-05-22T19:00:05.113503Z",
     "shell.execute_reply.started": "2024-05-22T19:00:05.045798Z"
    }
   },
   "outputs": [],
   "source": [
    "# -- Data reading\n",
    "\n",
    "rkhs, l2, non_gp, real = get_filenames(DIR_EXPERIMENTS)"
   ]
  },
  {
   "cell_type": "markdown",
   "id": "713b4d3b",
   "metadata": {
    "heading_collapsed": true,
    "jp-MarkdownHeadingCollapsed": true
   },
   "source": [
    "### Score tables"
   ]
  },
  {
   "cell_type": "code",
   "execution_count": null,
   "id": "bbcd08cd",
   "metadata": {
    "ExecuteTime": {
     "end_time": "2022-09-21T17:00:48.191180Z",
     "start_time": "2022-09-21T17:00:48.184003Z"
    },
    "execution": {
     "iopub.status.busy": "2024-05-22T11:06:54.321757Z",
     "iopub.status.idle": "2024-05-22T11:06:54.321994Z",
     "shell.execute_reply": "2024-05-22T11:06:54.321894Z",
     "shell.execute_reply.started": "2024-05-22T11:06:54.321882Z"
    },
    "hidden": true
   },
   "outputs": [],
   "source": [
    "# -- Table configuration\n",
    "\n",
    "PRINT_LATEX = False  # whether to print tables in Latex format\n",
    "dataname = \"real\"  # 'rkhs', 'l2', 'non_gp' or 'real'"
   ]
  },
  {
   "cell_type": "code",
   "execution_count": null,
   "id": "dfd8634f",
   "metadata": {
    "ExecuteTime": {
     "end_time": "2022-09-21T17:00:48.233717Z",
     "start_time": "2022-09-21T17:00:48.193854Z"
    },
    "code_folding": [
     0
    ],
    "execution": {
     "iopub.status.busy": "2024-05-22T11:06:54.322769Z",
     "iopub.status.idle": "2024-05-22T11:06:54.322980Z",
     "shell.execute_reply": "2024-05-22T11:06:54.322884Z",
     "shell.execute_reply.started": "2024-05-22T11:06:54.322874Z"
    },
    "hidden": true
   },
   "outputs": [],
   "source": [
    "# -- Create tables\n",
    "\n",
    "dfs_one_stage = []\n",
    "dfs_two_stage = []\n",
    "\n",
    "if dataname == \"rkhs\":\n",
    "    data_all = rkhs\n",
    "elif dataname == \"l2\":\n",
    "    data_all = l2\n",
    "elif dataname == \"non_gp\":\n",
    "    data_all = non_gp\n",
    "else:\n",
    "    data_all = real\n",
    "\n",
    "for name in data_all:\n",
    "    kernel = get_name_table(name)\n",
    "    df = pd.read_csv(name + \".csv\")\n",
    "    score_lst = [f\"Mean {SCORE_STR}\", f\"SD {SCORE_STR}\"]\n",
    "\n",
    "    # Convert float to strings\n",
    "    df[score_lst] = df[score_lst].map(lambda x: \"{:.3f}\".format(x))\n",
    "\n",
    "    # Join Mean and SD\n",
    "    df[kernel] = df[score_lst[0]] + \" (\" + df[score_lst[1]] + \")\"\n",
    "    df = df[[\"Estimator\", kernel]]\n",
    "\n",
    "    df_one_stage, df_two_stage = separate_df(df, \"Estimator\", None)\n",
    "    dfs_one_stage.append(df_one_stage)\n",
    "    dfs_two_stage.append(df_two_stage)"
   ]
  },
  {
   "cell_type": "code",
   "execution_count": null,
   "id": "d3d72566",
   "metadata": {
    "ExecuteTime": {
     "end_time": "2022-09-21T17:00:48.280077Z",
     "start_time": "2022-09-21T17:00:48.236205Z"
    },
    "code_folding": [
     0
    ],
    "execution": {
     "iopub.status.busy": "2024-05-22T11:06:54.323843Z",
     "iopub.status.idle": "2024-05-22T11:06:54.324054Z",
     "shell.execute_reply": "2024-05-22T11:06:54.323955Z",
     "shell.execute_reply.started": "2024-05-22T11:06:54.323946Z"
    },
    "hidden": true
   },
   "outputs": [],
   "source": [
    "# -- Show tables\n",
    "\n",
    "print(\n",
    "    \"--> \"\n",
    "    + KIND.capitalize()\n",
    "    + \" \"\n",
    "    + dataname.upper()\n",
    "    + (\" (smooth)\" if SMOOTHING else \"\")\n",
    "    + \" <--\\n\"\n",
    ")\n",
    "\n",
    "\n",
    "names = [\"One-stage methods\", \"Two-stage methods\"]\n",
    "for name, dfs in zip(names, [dfs_one_stage, dfs_two_stage]):\n",
    "    print(name)\n",
    "    df_merge = reduce(lambda df1, df2: df1.merge(df2, on=\"Estimator\", how=\"inner\"), dfs)\n",
    "    if PRINT_LATEX:\n",
    "        print(df_merge.to_latex(index=False))\n",
    "    else:\n",
    "        display(df_merge.style.hide(axis='index'))"
   ]
  },
  {
   "cell_type": "markdown",
   "id": "09199b4b",
   "metadata": {},
   "source": [
    "### Score graphs"
   ]
  },
  {
   "cell_type": "code",
   "execution_count": 41,
   "id": "7ff79585",
   "metadata": {
    "execution": {
     "iopub.execute_input": "2024-05-22T11:24:57.742458Z",
     "iopub.status.busy": "2024-05-22T11:24:57.742082Z",
     "iopub.status.idle": "2024-05-22T11:24:57.766083Z",
     "shell.execute_reply": "2024-05-22T11:24:57.764712Z",
     "shell.execute_reply.started": "2024-05-22T11:24:57.742428Z"
    }
   },
   "outputs": [],
   "source": [
    "# -- Plotting functions\n",
    "\n",
    "\n",
    "def plot_df(df, ax=None, legend=False, limit=None):\n",
    "    if ax is None:\n",
    "        fig, ax = plt.subplots()\n",
    "    ax.margins(x=0.05)\n",
    "\n",
    "    estimator = df[\"Estimator\"].to_numpy(dtype=str)\n",
    "\n",
    "    score = df[\"Mean \" + SCORE_STR].to_numpy()\n",
    "    sd = df[\"SD \" + SCORE_STR].to_numpy()\n",
    "    ours_idx = []\n",
    "\n",
    "    # Outliers\n",
    "    if KIND == \"linear\":\n",
    "        if limit is None:\n",
    "            q3, q1 = np.percentile(score + sd, [75, 25])\n",
    "            limit = q3 + 1.5 * (q3 - q1)  # IQR\n",
    "\n",
    "        outliers_idx = np.where(score > limit)[0]\n",
    "        outliers = estimator[outliers_idx]\n",
    "        symbol = \">\"\n",
    "    else:\n",
    "        if limit is None:\n",
    "            q3, q1 = np.percentile(score - sd, [75, 25])\n",
    "            limit = q1 - 1.5 * (q3 - q1)  # IQR\n",
    "        outliers_idx = np.where(score < limit)[0]\n",
    "        outliers = estimator[outliers_idx]\n",
    "        symbol = \"<\"\n",
    "\n",
    "    # Plot our models\n",
    "    all_outliers_ours = True\n",
    "    for idx, idx_where in enumerate(np.char.find(estimator, \"_\")):  # our models all have '_'\n",
    "        if idx_where < 0:\n",
    "            continue\n",
    "        ours_idx.append(idx)\n",
    "\n",
    "        if estimator[idx] in outliers:\n",
    "            handles_ours_outliers = ax.plot(\n",
    "                limit, estimator[idx], symbol, color=BLUE, markersize=4, label=\"Our methods\"\n",
    "            )\n",
    "        else:\n",
    "            all_outliers_ours = False\n",
    "            handles_ours = ax.errorbar(\n",
    "                score[idx],\n",
    "                estimator[idx],\n",
    "                xerr=sd[idx],\n",
    "                color=BLUE,\n",
    "                ecolor=BLUE,\n",
    "                lw=1,\n",
    "                fmt=\"o\",\n",
    "                markersize=4,\n",
    "                label=\"Our methods\",\n",
    "            )\n",
    "\n",
    "    estimator_rest = np.delete(estimator, ours_idx)\n",
    "    score_rest = np.delete(score, ours_idx)\n",
    "    sd_rest = np.delete(sd, ours_idx)\n",
    "\n",
    "    # Plot comparison models\n",
    "    all_outliers_rest = True\n",
    "    for e, s, sdd in zip(estimator_rest, score_rest, sd_rest):\n",
    "        if e in outliers:\n",
    "            handles_rest_outliers = ax.plot(\n",
    "                limit, e, symbol, color=ORANGE, markersize=4, label=\"Reference methods\"\n",
    "            )\n",
    "        else:\n",
    "            all_outliers_rest = False\n",
    "            handles_rest = ax.errorbar(\n",
    "                s,\n",
    "                e,\n",
    "                xerr=sdd,\n",
    "                color=ORANGE,\n",
    "                ecolor=ORANGE,\n",
    "                lw=1,\n",
    "                fmt=\"o\",\n",
    "                markersize=4,\n",
    "                label=\"Reference methods\",\n",
    "            )\n",
    "\n",
    "    if all_outliers_ours:\n",
    "        handles_ours = handles_ours_outliers\n",
    "    if all_outliers_rest:\n",
    "        handles_rest = handles_rest_outliers\n",
    "\n",
    "    handles = [handles_ours, handles_rest]\n",
    "\n",
    "    score_rest_no_outliers = np.delete(score, np.concatenate((outliers_idx, ours_idx)))\n",
    "    if len(score_rest_no_outliers) > 0:\n",
    "        handles_mean = ax.axvline(\n",
    "            x=score_rest_no_outliers.mean(),\n",
    "            color=ORANGE,\n",
    "            ls=\"--\",\n",
    "            lw=1.2,\n",
    "            alpha=0.65,\n",
    "            label=\"Mean of reference methods\",\n",
    "        )\n",
    "        handles += [handles_mean]\n",
    "\n",
    "    if legend:\n",
    "        ax.legend(handles=handles, bbox_to_anchor=(1, 1))\n",
    "\n",
    "    return handles\n",
    "\n",
    "\n",
    "def plot_data_all(\n",
    "    data,\n",
    "    data_type_name,\n",
    "    limit=None,\n",
    "    legend=True,\n",
    "    save=False,\n",
    "    figsize=[None, None],\n",
    "    bbox_legend=[None, None],\n",
    "):\n",
    "    n_data = len(data)\n",
    "    if limit is None:\n",
    "        limit = [(None, None)] * n_data\n",
    "\n",
    "    if figsize[0] is None:\n",
    "        figsize[0] = 2.5 * n_data\n",
    "    if figsize[1] is None:\n",
    "        figsize[1] = 7\n",
    "    if bbox_legend[0] is None:\n",
    "        if n_data == 2:\n",
    "            bbox_legend[0] = 1.15\n",
    "        elif n_data == 3:\n",
    "            bbox_legend[0] = 1.80\n",
    "        elif n_data == 4:\n",
    "            bbox_legend[0] = 2.45\n",
    "        else:\n",
    "            bbox_legend[0] = 1.0\n",
    "    if bbox_legend[1] is None:\n",
    "        bbox_legend[1] = -0.45\n",
    "\n",
    "    fig = plt.figure(figsize=figsize)\n",
    "    subfigs = fig.subfigures(nrows=1, ncols=n_data)\n",
    "    if n_data == 1:\n",
    "        subfigs = [subfigs]\n",
    "\n",
    "    for j, (dataname, l) in enumerate(zip(data, limit)):\n",
    "        df = pd.read_csv(dataname + \".csv\")\n",
    "        dataname_short, real_data = get_name_graph(dataname)\n",
    "\n",
    "        if IGNORE_SUMMARY_METHODS:\n",
    "            df = df[~df[\"Estimator\"].str.contains(\"summary\")]\n",
    "\n",
    "        # Get different strategies and order by score\n",
    "        df_bayesian, df_var_sel = separate_df(df, \"Estimator\", KIND)\n",
    "\n",
    "        # Plot\n",
    "        subfig = subfigs[j]\n",
    "        subfig.suptitle(dataname_short, fontweight=\"semibold\", y=0.96)\n",
    "        ax1, ax2 = subfig.subplots(nrows=2, ncols=1, sharex=True)\n",
    "\n",
    "        if j != 0 and j != n_data - 1:\n",
    "            ax1.set_yticks([])\n",
    "            ax2.set_yticks([])\n",
    "        if j != 0 and j == n_data - 1:\n",
    "            ax1.yaxis.tick_right()\n",
    "            ax2.yaxis.tick_right()\n",
    "\n",
    "        ax1.set_title(\"One-stage methods\")\n",
    "        ax2.set_title(\"Two-stage methods\")\n",
    "        ax1.set_xlabel(SCORE_STR_FULL)\n",
    "        ax2.set_xlabel(SCORE_STR_FULL)\n",
    "        ax1.tick_params(labelbottom=True)\n",
    "        ax1.xaxis.set_major_locator(plt.MaxNLocator(4))\n",
    "        ax1.xaxis.set_major_formatter(plt.FormatStrFormatter(\"%0.2f\"))\n",
    "\n",
    "        _ = plot_df(df_bayesian, ax1, limit=l[0])\n",
    "        handles = plot_df(df_var_sel, ax2, limit=l[1])\n",
    "\n",
    "        if legend and j == 0:\n",
    "            ax2.legend(\n",
    "                loc=\"lower center\",\n",
    "                handles=handles,\n",
    "                ncol=3,\n",
    "                fancybox=True,\n",
    "                shadow=True,\n",
    "                bbox_to_anchor=bbox_legend,\n",
    "            )\n",
    "\n",
    "        subfig.subplots_adjust(hspace=0.35)\n",
    "\n",
    "    if save:\n",
    "        filename_save = (\n",
    "            (\"reg_\" if KIND == \"linear\" else \"clf_\")\n",
    "            + data_type_name\n",
    "            + (\"_smooth\" if \"smoothing\" in dataname else \"\")\n",
    "            + \".pdf\"\n",
    "        )\n",
    "        plt.rcParams.update({\n",
    "            \"legend.fontsize\": FONT_SIZE_LATEX,\n",
    "            \"axes.titlesize\": FONT_SIZE_LATEX - 1,\n",
    "            \"axes.labelsize\": FONT_SIZE_LATEX - 1,\n",
    "            \"xtick.labelsize\": FONT_SIZE_LATEX,\n",
    "            \"ytick.labelsize\": FONT_SIZE_LATEX,\n",
    "        })\n",
    "        plt.savefig(DIR_SAVE + filename_save, bbox_inches=\"tight\", backend=\"pgf\")"
   ]
  },
  {
   "cell_type": "code",
   "execution_count": 46,
   "id": "b53df28c",
   "metadata": {
    "execution": {
     "iopub.execute_input": "2024-05-22T19:00:08.526507Z",
     "iopub.status.busy": "2024-05-22T19:00:08.526282Z",
     "iopub.status.idle": "2024-05-22T19:00:08.533580Z",
     "shell.execute_reply": "2024-05-22T19:00:08.532837Z",
     "shell.execute_reply.started": "2024-05-22T19:00:08.526495Z"
    }
   },
   "outputs": [],
   "source": [
    "# -- Plot configuration\n",
    "\n",
    "dataname = \"real\"\n",
    "LIMIT_EXPERIMENTS = True  # whether to use pre-defined limits for the plots\n",
    "bbox_legend = [None, None]\n",
    "height = 8 if KIND == \"linear\" else 9"
   ]
  },
  {
   "cell_type": "code",
   "execution_count": 57,
   "id": "f36dcb73",
   "metadata": {
    "execution": {
     "iopub.execute_input": "2024-05-22T19:01:46.298690Z",
     "iopub.status.busy": "2024-05-22T19:01:46.298229Z",
     "iopub.status.idle": "2024-05-22T19:01:46.302392Z",
     "shell.execute_reply": "2024-05-22T19:01:46.302081Z",
     "shell.execute_reply.started": "2024-05-22T19:01:46.298671Z"
    }
   },
   "outputs": [],
   "source": [
    "# -- Data limits for plotting\n",
    "\n",
    "if LIMIT_EXPERIMENTS:\n",
    "    if KIND == \"linear\":\n",
    "        if dataname == \"rkhs\":\n",
    "            #limit = [(1.5, 1.5), (0.9, None), (2, 2), (0.9, 0.9)]  #lambda_3\n",
    "            limit=[(2,2), (0.95, 0.95), (2.5, 2.5), (None, None)] # uniform\n",
    "        elif dataname == \"l2\":\n",
    "            #limit = [(None, None), (None, None), (None, None), (None, None)] #lambda_3\n",
    "            limit = [(None, None), (None, None), (None, None), (None, None)] # uniform\n",
    "        elif dataname == \"non_gp\":\n",
    "            #limit = [(None, None), (1.8, 1.8)]  # lambda_3\n",
    "            limit = [(None, None), (1.8, 1.8)]  # uniform\n",
    "        else:  # real\n",
    "            #limit = [(0.37, 0.37), (None, None), (3.3, 3.3)]  #lambda_3\n",
    "            limit = [(0.76, 0.76), (None, None), (3.32, 3.32)] # uniform\n",
    "    else:  # logistic\n",
    "        if dataname == \"rkhs\":\n",
    "            limit = [(0.75, 0.75), (None, None), (None, None), (None, None)]  # lambda_3\n",
    "        elif dataname == \"l2\":\n",
    "            limit = [(0.5, 0.5), (0.5, 0.5), (0.5, 0.5), (None, None)]  # lambda_3\n",
    "        elif dataname == \"non_gp\":\n",
    "            limit = [(None, None), (0.48, 0.48)]  # lambda_3\n",
    "        else:  # real\n",
    "            limit = [(0.74, 0.74), (None, None), (0.65, 0.65)] # lambda_3\n",
    "else:  # custom limits\n",
    "    limit = None"
   ]
  },
  {
   "cell_type": "code",
   "execution_count": 58,
   "id": "0c31815c",
   "metadata": {
    "ExecuteTime": {
     "end_time": "2022-09-21T18:49:26.334214Z",
     "start_time": "2022-09-21T18:49:24.734812Z"
    },
    "code_folding": [],
    "execution": {
     "iopub.execute_input": "2024-05-22T19:01:46.487714Z",
     "iopub.status.busy": "2024-05-22T19:01:46.487478Z",
     "iopub.status.idle": "2024-05-22T19:01:48.597136Z",
     "shell.execute_reply": "2024-05-22T19:01:48.596798Z",
     "shell.execute_reply.started": "2024-05-22T19:01:46.487698Z"
    }
   },
   "outputs": [
    {
     "name": "stdout",
     "output_type": "stream",
     "text": [
      "--> Logistic REAL <--\n"
     ]
    },
    {
     "data": {
      "image/png": "[encoded data removed]",
      "text/plain": [
       "<Figure size 750x900 with 6 Axes>"
      ]
     },
     "metadata": {},
     "output_type": "display_data"
    }
   ],
   "source": [
    "# -- Plot score graphs\n",
    "\n",
    "if dataname == \"rkhs\":\n",
    "    data_all = rkhs\n",
    "elif dataname == \"l2\":\n",
    "    data_all = l2\n",
    "elif dataname == \"non_gp\":\n",
    "    data_all = non_gp\n",
    "else:\n",
    "    data_all = real\n",
    "\n",
    "print(\n",
    "    \"--> \"\n",
    "    + KIND.capitalize()\n",
    "    + \" \"\n",
    "    + dataname.upper()\n",
    "    + (\" (smooth)\" if SMOOTHING else \"\")\n",
    "    + \" <--\"\n",
    ")\n",
    "\n",
    "plot_data_all(\n",
    "    data_all,\n",
    "    dataname,\n",
    "    limit=limit,\n",
    "    legend=True,\n",
    "    figsize=[None, height],  # Default width is 2.5*n_data\n",
    "    bbox_legend=bbox_legend,\n",
    "    save=SAVE_FIG,\n",
    ")"
   ]
  },
  {
   "cell_type": "code",
   "execution_count": null,
   "id": "91c244e7-8ec1-4c7f-9397-8ace64b1b4b8",
   "metadata": {},
   "outputs": [],
   "source": []
  }
 ],
 "metadata": {
  "kernelspec": {
   "display_name": "Python 3 (ipykernel)",
   "language": "python",
   "name": "python3"
  },
  "language_info": {
   "codemirror_mode": {
    "name": "ipython",
    "version": 3
   },
   "file_extension": ".py",
   "mimetype": "text/x-python",
   "name": "python",
   "nbconvert_exporter": "python",
   "pygments_lexer": "ipython3",
   "version": "3.11.7"
  },
  "latex_envs": {
   "LaTeX_envs_menu_present": false,
   "autoclose": true,
   "autocomplete": false,
   "bibliofile": "bibliography.bib",
   "cite_by": "apalike",
   "current_citInitial": 1,
   "eqLabelWithNumbers": true,
   "eqNumInitial": 1,
   "hotkeys": {
    "equation": "Ctrl-E",
    "itemize": "Ctrl-I"
   },
   "labels_anchors": false,
   "latex_user_defs": false,
   "report_style_numbering": false,
   "user_envs_cfg": false
  },
  "scenes_data": {
   "active_scene": "Default Scene",
   "init_scene": "",
   "scenes": [
    "Default Scene"
   ]
  },
  "toc": {
   "base_numbering": 1,
   "nav_menu": {},
   "number_sections": true,
   "sideBar": true,
   "skip_h1_title": false,
   "title_cell": "Table of Contents",
   "title_sidebar": "Contents",
   "toc_cell": false,
   "toc_position": {},
   "toc_section_display": true,
   "toc_window_display": false
  },
  "varInspector": {
   "cols": {
    "lenName": 16,
    "lenType": 16,
    "lenVar": 40
   },
   "kernels_config": {
    "python": {
     "delete_cmd_postfix": "",
     "delete_cmd_prefix": "del ",
     "library": "var_list.py",
     "varRefreshCmd": "print(var_dic_list())"
    },
    "r": {
     "delete_cmd_postfix": ") ",
     "delete_cmd_prefix": "rm(",
     "library": "var_list.r",
     "varRefreshCmd": "cat(var_dic_list()) "
    }
   },
   "types_to_exclude": [
    "module",
    "function",
    "builtin_function_or_method",
    "instance",
    "_Feature"
   ],
   "window_display": false
  }
 },
 "nbformat": 4,
 "nbformat_minor": 5
}
